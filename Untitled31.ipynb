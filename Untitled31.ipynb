{
  "nbformat": 4,
  "nbformat_minor": 0,
  "metadata": {
    "colab": {
      "name": "Untitled31.ipynb",
      "provenance": [],
      "authorship_tag": "ABX9TyN31vGJYvuBjJygVoh+WqVT",
      "include_colab_link": true
    },
    "kernelspec": {
      "name": "python3",
      "display_name": "Python 3"
    },
    "language_info": {
      "name": "python"
    }
  },
  "cells": [
    {
      "cell_type": "markdown",
      "metadata": {
        "id": "view-in-github",
        "colab_type": "text"
      },
      "source": [
        "<a href=\"https://colab.research.google.com/github/AkhilRam7/Covid19Tweets/blob/master/Untitled31.ipynb\" target=\"_parent\"><img src=\"https://colab.research.google.com/assets/colab-badge.svg\" alt=\"Open In Colab\"/></a>"
      ]
    },
    {
      "cell_type": "code",
      "metadata": {
        "id": "HxVcBb0cGLSI"
      },
      "source": [
        "import recordlinkage\n",
        "from recordlinkage.datasets import load_febrl4, load_febrl3\n",
        "import tensorflow as tf\n",
        "from tensorflow.keras import layers\n",
        "from recordlinkage.base import BaseClassifier\n",
        "from recordlinkage.adapters import KerasAdapter"
      ],
      "execution_count": 1,
      "outputs": []
    },
    {
      "cell_type": "code",
      "metadata": {
        "id": "LcLTPqGnIehK"
      },
      "source": [
        "dfA, dfB, links = load_febrl4(return_links=True)"
      ],
      "execution_count": 2,
      "outputs": []
    },
    {
      "cell_type": "code",
      "metadata": {
        "colab": {
          "base_uri": "https://localhost:8080/"
        },
        "id": "ZKWBclk1L_H7",
        "outputId": "36abfe77-6276-45e0-926a-cb26bd8ce8bc"
      },
      "source": [
        "print(dfA.columns, '\\n',dfB.columns)"
      ],
      "execution_count": 3,
      "outputs": [
        {
          "output_type": "stream",
          "name": "stdout",
          "text": [
            "Index(['given_name', 'surname', 'street_number', 'address_1', 'address_2',\n",
            "       'suburb', 'postcode', 'state', 'date_of_birth', 'soc_sec_id'],\n",
            "      dtype='object') \n",
            " Index(['given_name', 'surname', 'street_number', 'address_1', 'address_2',\n",
            "       'suburb', 'postcode', 'state', 'date_of_birth', 'soc_sec_id'],\n",
            "      dtype='object')\n"
          ]
        }
      ]
    },
    {
      "cell_type": "code",
      "metadata": {
        "colab": {
          "base_uri": "https://localhost:8080/",
          "height": 235
        },
        "id": "P8LePHINMDOe",
        "outputId": "0e7fd968-7440-435a-a9ad-57223514dcc2"
      },
      "source": [
        "dfA.head()"
      ],
      "execution_count": 4,
      "outputs": [
        {
          "output_type": "execute_result",
          "data": {
            "text/html": [
              "<div>\n",
              "<style scoped>\n",
              "    .dataframe tbody tr th:only-of-type {\n",
              "        vertical-align: middle;\n",
              "    }\n",
              "\n",
              "    .dataframe tbody tr th {\n",
              "        vertical-align: top;\n",
              "    }\n",
              "\n",
              "    .dataframe thead th {\n",
              "        text-align: right;\n",
              "    }\n",
              "</style>\n",
              "<table border=\"1\" class=\"dataframe\">\n",
              "  <thead>\n",
              "    <tr style=\"text-align: right;\">\n",
              "      <th></th>\n",
              "      <th>given_name</th>\n",
              "      <th>surname</th>\n",
              "      <th>street_number</th>\n",
              "      <th>address_1</th>\n",
              "      <th>address_2</th>\n",
              "      <th>suburb</th>\n",
              "      <th>postcode</th>\n",
              "      <th>state</th>\n",
              "      <th>date_of_birth</th>\n",
              "      <th>soc_sec_id</th>\n",
              "    </tr>\n",
              "    <tr>\n",
              "      <th>rec_id</th>\n",
              "      <th></th>\n",
              "      <th></th>\n",
              "      <th></th>\n",
              "      <th></th>\n",
              "      <th></th>\n",
              "      <th></th>\n",
              "      <th></th>\n",
              "      <th></th>\n",
              "      <th></th>\n",
              "      <th></th>\n",
              "    </tr>\n",
              "  </thead>\n",
              "  <tbody>\n",
              "    <tr>\n",
              "      <th>rec-1070-org</th>\n",
              "      <td>michaela</td>\n",
              "      <td>neumann</td>\n",
              "      <td>8</td>\n",
              "      <td>stanley street</td>\n",
              "      <td>miami</td>\n",
              "      <td>winston hills</td>\n",
              "      <td>4223</td>\n",
              "      <td>nsw</td>\n",
              "      <td>19151111</td>\n",
              "      <td>5304218</td>\n",
              "    </tr>\n",
              "    <tr>\n",
              "      <th>rec-1016-org</th>\n",
              "      <td>courtney</td>\n",
              "      <td>painter</td>\n",
              "      <td>12</td>\n",
              "      <td>pinkerton circuit</td>\n",
              "      <td>bega flats</td>\n",
              "      <td>richlands</td>\n",
              "      <td>4560</td>\n",
              "      <td>vic</td>\n",
              "      <td>19161214</td>\n",
              "      <td>4066625</td>\n",
              "    </tr>\n",
              "    <tr>\n",
              "      <th>rec-4405-org</th>\n",
              "      <td>charles</td>\n",
              "      <td>green</td>\n",
              "      <td>38</td>\n",
              "      <td>salkauskas crescent</td>\n",
              "      <td>kela</td>\n",
              "      <td>dapto</td>\n",
              "      <td>4566</td>\n",
              "      <td>nsw</td>\n",
              "      <td>19480930</td>\n",
              "      <td>4365168</td>\n",
              "    </tr>\n",
              "    <tr>\n",
              "      <th>rec-1288-org</th>\n",
              "      <td>vanessa</td>\n",
              "      <td>parr</td>\n",
              "      <td>905</td>\n",
              "      <td>macquoid place</td>\n",
              "      <td>broadbridge manor</td>\n",
              "      <td>south grafton</td>\n",
              "      <td>2135</td>\n",
              "      <td>sa</td>\n",
              "      <td>19951119</td>\n",
              "      <td>9239102</td>\n",
              "    </tr>\n",
              "    <tr>\n",
              "      <th>rec-3585-org</th>\n",
              "      <td>mikayla</td>\n",
              "      <td>malloney</td>\n",
              "      <td>37</td>\n",
              "      <td>randwick road</td>\n",
              "      <td>avalind</td>\n",
              "      <td>hoppers crossing</td>\n",
              "      <td>4552</td>\n",
              "      <td>vic</td>\n",
              "      <td>19860208</td>\n",
              "      <td>7207688</td>\n",
              "    </tr>\n",
              "  </tbody>\n",
              "</table>\n",
              "</div>"
            ],
            "text/plain": [
              "             given_name   surname street_number  ... state date_of_birth soc_sec_id\n",
              "rec_id                                           ...                               \n",
              "rec-1070-org   michaela   neumann             8  ...   nsw      19151111    5304218\n",
              "rec-1016-org   courtney   painter            12  ...   vic      19161214    4066625\n",
              "rec-4405-org    charles     green            38  ...   nsw      19480930    4365168\n",
              "rec-1288-org    vanessa      parr           905  ...    sa      19951119    9239102\n",
              "rec-3585-org    mikayla  malloney            37  ...   vic      19860208    7207688\n",
              "\n",
              "[5 rows x 10 columns]"
            ]
          },
          "metadata": {},
          "execution_count": 4
        }
      ]
    },
    {
      "cell_type": "code",
      "metadata": {
        "id": "ccqMLsYrIgjg"
      },
      "source": [
        "# Indexation step\n",
        "\n",
        "indexer = recordlinkage.Index()\n",
        "indexer.block('given_name')\n",
        "\n",
        "block_indexer = indexer.index(dfA, dfB)"
      ],
      "execution_count": 5,
      "outputs": []
    },
    {
      "cell_type": "code",
      "metadata": {
        "colab": {
          "base_uri": "https://localhost:8080/"
        },
        "id": "3G2h4_Y0Mo9-",
        "outputId": "715ecdd9-7e53-499f-8281-7184832ffa0f"
      },
      "source": [
        "block_indexer"
      ],
      "execution_count": 6,
      "outputs": [
        {
          "output_type": "execute_result",
          "data": {
            "text/plain": [
              "MultiIndex([('rec-1070-org', 'rec-3024-dup-0'),\n",
              "            ('rec-1070-org', 'rec-2371-dup-0'),\n",
              "            ('rec-1070-org', 'rec-4652-dup-0'),\n",
              "            ('rec-1070-org', 'rec-4795-dup-0'),\n",
              "            ('rec-1070-org', 'rec-1314-dup-0'),\n",
              "            ('rec-2371-org', 'rec-3024-dup-0'),\n",
              "            ('rec-2371-org', 'rec-2371-dup-0'),\n",
              "            ('rec-2371-org', 'rec-4652-dup-0'),\n",
              "            ('rec-2371-org', 'rec-4795-dup-0'),\n",
              "            ('rec-2371-org', 'rec-1314-dup-0'),\n",
              "            ...\n",
              "            ('rec-1413-org', 'rec-1413-dup-0'),\n",
              "            ( 'rec-735-org',  'rec-735-dup-0'),\n",
              "            ('rec-1361-org', 'rec-1361-dup-0'),\n",
              "            ('rec-3090-org', 'rec-3090-dup-0'),\n",
              "            ('rec-2571-org', 'rec-2571-dup-0'),\n",
              "            ('rec-4528-org', 'rec-4528-dup-0'),\n",
              "            ('rec-4887-org', 'rec-4887-dup-0'),\n",
              "            ('rec-4350-org', 'rec-4350-dup-0'),\n",
              "            ('rec-4569-org', 'rec-4569-dup-0'),\n",
              "            ('rec-3125-org', 'rec-3125-dup-0')],\n",
              "           names=['rec_id_1', 'rec_id_2'], length=77249)"
            ]
          },
          "metadata": {},
          "execution_count": 6
        }
      ]
    },
    {
      "cell_type": "code",
      "metadata": {
        "id": "2hICRND2Mqnl"
      },
      "source": [
        "# Comparison step\n",
        "\n",
        "compare_cl = recordlinkage.Compare()\n",
        "\n",
        "compare_cl.exact('given_name', 'given_name', label='given_name')\n",
        "compare_cl.string('surname', 'surname', method='jarowinkler', threshold=0.85, label='surname')\n",
        "compare_cl.exact('date_of_birth', 'date_of_birth', label='date_of_birth')\n",
        "compare_cl.exact('suburb', 'suburb', label='suburb')\n",
        "compare_cl.exact('state', 'state', label='state')\n",
        "compare_cl.exact('postcode', 'postcode', label='post')\n",
        "compare_cl.string('address_1', 'address_1', threshold=0.85, label='address_1')\n",
        "compare_cl.string('address_2', 'address_2', threshold=0.85, label='address_2')\n",
        "\n",
        "matches = compare_cl.compute(block_indexer, dfA, dfB)"
      ],
      "execution_count": 7,
      "outputs": []
    },
    {
      "cell_type": "code",
      "metadata": {
        "colab": {
          "base_uri": "https://localhost:8080/",
          "height": 450
        },
        "id": "waqPoDMoQOUd",
        "outputId": "3659e59a-eb52-43f3-b6ce-3e6c39d08e8f"
      },
      "source": [
        "matches"
      ],
      "execution_count": 8,
      "outputs": [
        {
          "output_type": "execute_result",
          "data": {
            "text/html": [
              "<div>\n",
              "<style scoped>\n",
              "    .dataframe tbody tr th:only-of-type {\n",
              "        vertical-align: middle;\n",
              "    }\n",
              "\n",
              "    .dataframe tbody tr th {\n",
              "        vertical-align: top;\n",
              "    }\n",
              "\n",
              "    .dataframe thead th {\n",
              "        text-align: right;\n",
              "    }\n",
              "</style>\n",
              "<table border=\"1\" class=\"dataframe\">\n",
              "  <thead>\n",
              "    <tr style=\"text-align: right;\">\n",
              "      <th></th>\n",
              "      <th></th>\n",
              "      <th>given_name</th>\n",
              "      <th>surname</th>\n",
              "      <th>date_of_birth</th>\n",
              "      <th>suburb</th>\n",
              "      <th>state</th>\n",
              "      <th>post</th>\n",
              "      <th>address_1</th>\n",
              "      <th>address_2</th>\n",
              "    </tr>\n",
              "    <tr>\n",
              "      <th>rec_id_1</th>\n",
              "      <th>rec_id_2</th>\n",
              "      <th></th>\n",
              "      <th></th>\n",
              "      <th></th>\n",
              "      <th></th>\n",
              "      <th></th>\n",
              "      <th></th>\n",
              "      <th></th>\n",
              "      <th></th>\n",
              "    </tr>\n",
              "  </thead>\n",
              "  <tbody>\n",
              "    <tr>\n",
              "      <th rowspan=\"5\" valign=\"top\">rec-1070-org</th>\n",
              "      <th>rec-3024-dup-0</th>\n",
              "      <td>1</td>\n",
              "      <td>0.0</td>\n",
              "      <td>0</td>\n",
              "      <td>0</td>\n",
              "      <td>1</td>\n",
              "      <td>0</td>\n",
              "      <td>0.0</td>\n",
              "      <td>0.0</td>\n",
              "    </tr>\n",
              "    <tr>\n",
              "      <th>rec-2371-dup-0</th>\n",
              "      <td>1</td>\n",
              "      <td>0.0</td>\n",
              "      <td>0</td>\n",
              "      <td>0</td>\n",
              "      <td>0</td>\n",
              "      <td>0</td>\n",
              "      <td>0.0</td>\n",
              "      <td>0.0</td>\n",
              "    </tr>\n",
              "    <tr>\n",
              "      <th>rec-4652-dup-0</th>\n",
              "      <td>1</td>\n",
              "      <td>0.0</td>\n",
              "      <td>0</td>\n",
              "      <td>0</td>\n",
              "      <td>0</td>\n",
              "      <td>0</td>\n",
              "      <td>0.0</td>\n",
              "      <td>0.0</td>\n",
              "    </tr>\n",
              "    <tr>\n",
              "      <th>rec-4795-dup-0</th>\n",
              "      <td>1</td>\n",
              "      <td>0.0</td>\n",
              "      <td>0</td>\n",
              "      <td>0</td>\n",
              "      <td>1</td>\n",
              "      <td>0</td>\n",
              "      <td>0.0</td>\n",
              "      <td>0.0</td>\n",
              "    </tr>\n",
              "    <tr>\n",
              "      <th>rec-1314-dup-0</th>\n",
              "      <td>1</td>\n",
              "      <td>0.0</td>\n",
              "      <td>0</td>\n",
              "      <td>0</td>\n",
              "      <td>1</td>\n",
              "      <td>0</td>\n",
              "      <td>0.0</td>\n",
              "      <td>0.0</td>\n",
              "    </tr>\n",
              "    <tr>\n",
              "      <th>...</th>\n",
              "      <th>...</th>\n",
              "      <td>...</td>\n",
              "      <td>...</td>\n",
              "      <td>...</td>\n",
              "      <td>...</td>\n",
              "      <td>...</td>\n",
              "      <td>...</td>\n",
              "      <td>...</td>\n",
              "      <td>...</td>\n",
              "    </tr>\n",
              "    <tr>\n",
              "      <th>rec-4528-org</th>\n",
              "      <th>rec-4528-dup-0</th>\n",
              "      <td>1</td>\n",
              "      <td>1.0</td>\n",
              "      <td>1</td>\n",
              "      <td>1</td>\n",
              "      <td>1</td>\n",
              "      <td>0</td>\n",
              "      <td>1.0</td>\n",
              "      <td>1.0</td>\n",
              "    </tr>\n",
              "    <tr>\n",
              "      <th>rec-4887-org</th>\n",
              "      <th>rec-4887-dup-0</th>\n",
              "      <td>1</td>\n",
              "      <td>1.0</td>\n",
              "      <td>1</td>\n",
              "      <td>0</td>\n",
              "      <td>1</td>\n",
              "      <td>1</td>\n",
              "      <td>1.0</td>\n",
              "      <td>0.0</td>\n",
              "    </tr>\n",
              "    <tr>\n",
              "      <th>rec-4350-org</th>\n",
              "      <th>rec-4350-dup-0</th>\n",
              "      <td>1</td>\n",
              "      <td>1.0</td>\n",
              "      <td>1</td>\n",
              "      <td>1</td>\n",
              "      <td>1</td>\n",
              "      <td>1</td>\n",
              "      <td>1.0</td>\n",
              "      <td>1.0</td>\n",
              "    </tr>\n",
              "    <tr>\n",
              "      <th>rec-4569-org</th>\n",
              "      <th>rec-4569-dup-0</th>\n",
              "      <td>1</td>\n",
              "      <td>1.0</td>\n",
              "      <td>1</td>\n",
              "      <td>1</td>\n",
              "      <td>1</td>\n",
              "      <td>1</td>\n",
              "      <td>0.0</td>\n",
              "      <td>1.0</td>\n",
              "    </tr>\n",
              "    <tr>\n",
              "      <th>rec-3125-org</th>\n",
              "      <th>rec-3125-dup-0</th>\n",
              "      <td>1</td>\n",
              "      <td>1.0</td>\n",
              "      <td>1</td>\n",
              "      <td>0</td>\n",
              "      <td>1</td>\n",
              "      <td>1</td>\n",
              "      <td>1.0</td>\n",
              "      <td>0.0</td>\n",
              "    </tr>\n",
              "  </tbody>\n",
              "</table>\n",
              "<p>77249 rows × 8 columns</p>\n",
              "</div>"
            ],
            "text/plain": [
              "                             given_name  surname  ...  address_1  address_2\n",
              "rec_id_1     rec_id_2                             ...                      \n",
              "rec-1070-org rec-3024-dup-0           1      0.0  ...        0.0        0.0\n",
              "             rec-2371-dup-0           1      0.0  ...        0.0        0.0\n",
              "             rec-4652-dup-0           1      0.0  ...        0.0        0.0\n",
              "             rec-4795-dup-0           1      0.0  ...        0.0        0.0\n",
              "             rec-1314-dup-0           1      0.0  ...        0.0        0.0\n",
              "...                                 ...      ...  ...        ...        ...\n",
              "rec-4528-org rec-4528-dup-0           1      1.0  ...        1.0        1.0\n",
              "rec-4887-org rec-4887-dup-0           1      1.0  ...        1.0        0.0\n",
              "rec-4350-org rec-4350-dup-0           1      1.0  ...        1.0        1.0\n",
              "rec-4569-org rec-4569-dup-0           1      1.0  ...        0.0        1.0\n",
              "rec-3125-org rec-3125-dup-0           1      1.0  ...        1.0        0.0\n",
              "\n",
              "[77249 rows x 8 columns]"
            ]
          },
          "metadata": {},
          "execution_count": 8
        }
      ]
    },
    {
      "cell_type": "code",
      "metadata": {
        "colab": {
          "base_uri": "https://localhost:8080/"
        },
        "id": "NUZjs2s6QP3h",
        "outputId": "f4586b61-ff43-4b88-aa95-4b3fa8020b77"
      },
      "source": [
        "class NNClassifier(KerasAdapter, BaseClassifier):\n",
        "    \"\"\"Neural network classifier.\"\"\"\n",
        "    def __init__(self):\n",
        "        super(NNClassifier, self).__init__()\n",
        "\n",
        "        model = tf.keras.Sequential()\n",
        "        model.add(layers.Dense(16, input_dim=8, activation='relu'))\n",
        "        model.add(layers.Dense(8, activation='relu'))\n",
        "        model.add(layers.Dense(1, activation='sigmoid'))\n",
        "        model.compile(\n",
        "            optimizer=tf.keras.optimizers.Adam(0.001),\n",
        "            loss='binary_crossentropy',\n",
        "            metrics=['accuracy']\n",
        "        )\n",
        "\n",
        "        self.kernel = model\n",
        "\n",
        "cl = NNClassifier()\n",
        "cl.fit(matches, links)"
      ],
      "execution_count": 9,
      "outputs": [
        {
          "output_type": "stream",
          "name": "stdout",
          "text": [
            "2415/2415 [==============================] - 4s 2ms/step - loss: 0.0291 - accuracy: 0.9973\n"
          ]
        }
      ]
    }
  ]
}